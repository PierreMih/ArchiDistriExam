{
 "cells": [
  {
   "metadata": {
    "ExecuteTime": {
     "end_time": "2024-08-23T11:40:47.400964Z",
     "start_time": "2024-08-23T11:40:47.398241Z"
    }
   },
   "cell_type": "code",
   "source": "# jupyter server url : http://127.0.0.1:8889/?token=feee72ecb0de9269728ba7e915647a4e8f50dd477058e9e1",
   "id": "cd55afd23d5d2301",
   "outputs": [],
   "execution_count": 10
  },
  {
   "metadata": {
    "ExecuteTime": {
     "end_time": "2024-08-23T11:40:47.427362Z",
     "start_time": "2024-08-23T11:40:47.412214Z"
    }
   },
   "cell_type": "code",
   "source": [
    "from pyspark.sql import SparkSession\n",
    "\n",
    "spark = SparkSession.builder \\\n",
    "    .master(\"local[*]\") \\\n",
    "    .appName(\"PierreMihEval2\") \\\n",
    "    .config(\"spark.ui.port\",\"4040\")\\\n",
    "    .config(\"spark.executor.memory\",\"10g\")\\\n",
    "    .config(\"spark.driver.memory\",\"4g\")\\\n",
    "    .config(\"spark.jars\", \"/opt/spark/jars/mysql-connector-j-9.0.0.jar\")\\\n",
    "    .getOrCreate()"
   ],
   "id": "637e854d6deb93ac",
   "outputs": [],
   "execution_count": 11
  },
  {
   "metadata": {
    "ExecuteTime": {
     "end_time": "2024-08-23T11:40:47.449500Z",
     "start_time": "2024-08-23T11:40:47.445791Z"
    }
   },
   "cell_type": "code",
   "source": [
    "user = \"thegameadministrator\"\n",
    "password = \"thegameadministratorpassword\"\n",
    "driver = \"com.mysql.jdbc.Driver\"\n",
    "schemaName = \"thegame\"\n",
    "properties = {\"user\":user,\n",
    "              \"driver\":driver,\n",
    "              \"password\":password\n",
    "              }\n",
    "connectionString = \"jdbc:mysql://db\"\n",
    "players_table_name = \"players\"\n",
    "player_matches_table_name = \"player_matches\"\n",
    "player_message_sentiment_table_name = \"player_messages\"\n",
    "player_transactions_table_name = \"player_transactions\"\n",
    "transaction_products_table_name = \"transaction_products\""
   ],
   "id": "42529114685da80",
   "outputs": [],
   "execution_count": 12
  },
  {
   "metadata": {
    "ExecuteTime": {
     "end_time": "2024-08-23T11:40:47.563941Z",
     "start_time": "2024-08-23T11:40:47.465427Z"
    }
   },
   "cell_type": "code",
   "source": [
    "df_players = spark.read.jdbc(connectionString, schemaName + \".\" + players_table_name, properties=properties)\n",
    "df_player_matches = spark.read.jdbc(connectionString, schemaName + \".\" + player_matches_table_name, properties=properties)\n",
    "df_player_messages_sentiment = spark.read.jdbc(connectionString, schemaName + \".\" + player_message_sentiment_table_name, properties=properties)\n",
    "df_player_transactions = spark.read.jdbc(connectionString, schemaName + \".\" + player_transactions_table_name, properties=properties)\n",
    "df_transaction_products = spark.read.jdbc(connectionString, schemaName + \".\" + transaction_products_table_name, properties=properties)"
   ],
   "id": "3aa552b3357e4b6c",
   "outputs": [],
   "execution_count": 13
  },
  {
   "metadata": {
    "ExecuteTime": {
     "end_time": "2024-08-23T11:40:48.258728Z",
     "start_time": "2024-08-23T11:40:47.582284Z"
    }
   },
   "cell_type": "code",
   "source": [
    "df_players.show(1)\n",
    "df_player_matches.show(1)\n",
    "df_player_messages_sentiment.show(1)\n",
    "df_player_transactions.show(1)\n",
    "df_transaction_products.show(1)"
   ],
   "id": "208f8587ddaba445",
   "outputs": [
    {
     "name": "stdout",
     "output_type": "stream",
     "text": [
      "+----+-----+------------------+\n",
      "|  id|level|total_hours_played|\n",
      "+----+-----+------------------+\n",
      "|4761|   13|               390|\n",
      "+----+-----+------------------+\n",
      "only showing top 1 row\n",
      "\n",
      "+---------+--------------------+-----+------+--------------+-----------------------+-----------+--------------+\n",
      "|player_id|                date|kills|deaths|friendly_kills|time_in_movement_ration|shots_fired|flags_captured|\n",
      "+---------+--------------------+-----+------+--------------+-----------------------+-----------+--------------+\n",
      "|      948|2023-11-28Z03:34:59Z|    0|    15|             1|                   0.76|        508|             8|\n",
      "+---------+--------------------+-----+------+--------------+-----------------------+-----------+--------------+\n",
      "only showing top 1 row\n",
      "\n",
      "+----+--------------------+---------+\n",
      "|  id|                date|sentiment|\n",
      "+----+--------------------+---------+\n",
      "|4761|2021-12-27Z05:57:26Z|     0.54|\n",
      "+----+--------------------+---------+\n",
      "only showing top 1 row\n",
      "\n",
      "+-------+------------------+----------+\n",
      "|user_id|transaction_number|      date|\n",
      "+-------+------------------+----------+\n",
      "|   1456|                 0|2020-08-26|\n",
      "+-------+------------------+----------+\n",
      "only showing top 1 row\n",
      "\n",
      "+-------+------------------+-------------------+--------------------+--------+\n",
      "|user_id|transaction_number|               name|         description|discount|\n",
      "+-------+------------------+-------------------+--------------------+--------+\n",
      "|   2915|                 0|Seasonal Event Pass|Unlocks exclusive...|    NULL|\n",
      "+-------+------------------+-------------------+--------------------+--------+\n",
      "only showing top 1 row\n",
      "\n"
     ]
    }
   ],
   "execution_count": 14
  },
  {
   "metadata": {},
   "cell_type": "code",
   "outputs": [],
   "execution_count": null,
   "source": [
    "from pyspark.sql.functions import col\n",
    "\n",
    "df_players_plus = df_players.withColumn(\"hours_per_level\", col(\"total_hours_played\") / col(\"level\"))\n",
    "df_players_plus.select(\"level\", \"total_hours_played\", \"hours_per_level\").describe().show()\n",
    "level_to_check = 5\n",
    "df_players_plus.where(col(\"level\") > level_to_check).orderBy(\"total_hours_played\", ascending=True).show()"
   ],
   "id": "f5026196135a3c1f"
  }
 ],
 "metadata": {
  "kernelspec": {
   "display_name": "Python 3",
   "language": "python",
   "name": "python3"
  },
  "language_info": {
   "codemirror_mode": {
    "name": "ipython",
    "version": 2
   },
   "file_extension": ".py",
   "mimetype": "text/x-python",
   "name": "python",
   "nbconvert_exporter": "python",
   "pygments_lexer": "ipython2",
   "version": "2.7.6"
  }
 },
 "nbformat": 4,
 "nbformat_minor": 5
}
