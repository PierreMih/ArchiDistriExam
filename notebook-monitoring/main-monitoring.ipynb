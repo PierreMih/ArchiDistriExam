{
 "cells": [
  {
   "metadata": {
    "ExecuteTime": {
     "end_time": "2024-08-23T13:02:20.238292Z",
     "start_time": "2024-08-23T13:02:20.235559Z"
    }
   },
   "cell_type": "code",
   "source": "# jupyter server url : http://127.0.0.1:8889/?token=feee72ecb0de9269728ba7e915647a4e8f50dd477058e9e1",
   "id": "cd55afd23d5d2301",
   "outputs": [],
   "execution_count": 142
  },
  {
   "metadata": {
    "ExecuteTime": {
     "end_time": "2024-08-23T13:02:20.255717Z",
     "start_time": "2024-08-23T13:02:20.248886Z"
    }
   },
   "cell_type": "code",
   "source": [
    "from pyspark.sql import SparkSession\n",
    "\n",
    "spark = SparkSession.builder \\\n",
    "    .master(\"local[*]\") \\\n",
    "    .appName(\"PierreMihEval2\") \\\n",
    "    .config(\"spark.ui.port\",\"4040\")\\\n",
    "    .config(\"spark.executor.memory\",\"10g\")\\\n",
    "    .config(\"spark.driver.memory\",\"4g\")\\\n",
    "    .config(\"spark.jars\", \"/opt/spark/jars/mysql-connector-j-9.0.0.jar\")\\\n",
    "    .getOrCreate()"
   ],
   "id": "637e854d6deb93ac",
   "outputs": [],
   "execution_count": 143
  },
  {
   "metadata": {
    "ExecuteTime": {
     "end_time": "2024-08-23T13:02:20.277273Z",
     "start_time": "2024-08-23T13:02:20.273631Z"
    }
   },
   "cell_type": "code",
   "source": [
    "user = \"thegameadministrator\"\n",
    "password = \"thegameadministratorpassword\"\n",
    "driver = \"com.mysql.jdbc.Driver\"\n",
    "schemaName = \"thegame\"\n",
    "properties = {\"user\":user,\n",
    "              \"driver\":driver,\n",
    "              \"password\":password\n",
    "              }\n",
    "connectionString = \"jdbc:mysql://db\"\n",
    "players_table_name = \"players\"\n",
    "player_matches_table_name = \"player_matches\"\n",
    "player_message_sentiment_table_name = \"player_messages\"\n",
    "player_transactions_table_name = \"player_transactions\"\n",
    "transaction_products_table_name = \"transaction_products\"\n",
    "anomalies_table_name = \"anomalies\""
   ],
   "id": "42529114685da80",
   "outputs": [],
   "execution_count": 144
  },
  {
   "metadata": {
    "ExecuteTime": {
     "end_time": "2024-08-23T13:02:20.363513Z",
     "start_time": "2024-08-23T13:02:20.297578Z"
    }
   },
   "cell_type": "code",
   "source": [
    "df_players = spark.read.jdbc(connectionString, schemaName + \".\" + players_table_name, properties=properties)\n",
    "df_player_matches = spark.read.jdbc(connectionString, schemaName + \".\" + player_matches_table_name, properties=properties)\n",
    "df_player_messages_sentiment = spark.read.jdbc(connectionString, schemaName + \".\" + player_message_sentiment_table_name, properties=properties)\n",
    "df_player_transactions = spark.read.jdbc(connectionString, schemaName + \".\" + player_transactions_table_name, properties=properties)\n",
    "df_transaction_products = spark.read.jdbc(connectionString, schemaName + \".\" + transaction_products_table_name, properties=properties)"
   ],
   "id": "3aa552b3357e4b6c",
   "outputs": [],
   "execution_count": 145
  },
  {
   "metadata": {
    "ExecuteTime": {
     "end_time": "2024-08-23T13:02:20.823453Z",
     "start_time": "2024-08-23T13:02:20.382718Z"
    }
   },
   "cell_type": "code",
   "source": [
    "df_players.show(1)\n",
    "df_player_matches.show(1)\n",
    "df_player_messages_sentiment.show(1)\n",
    "df_player_transactions.show(1)\n",
    "df_transaction_products.show(1)"
   ],
   "id": "208f8587ddaba445",
   "outputs": [
    {
     "name": "stdout",
     "output_type": "stream",
     "text": [
      "+----+-----+------------------+\n",
      "|  id|level|total_hours_played|\n",
      "+----+-----+------------------+\n",
      "|4761|   13|               390|\n",
      "+----+-----+------------------+\n",
      "only showing top 1 row\n",
      "\n",
      "+---------+--------------------+-----+------+--------------+-----------------------+-----------+--------------+\n",
      "|player_id|                date|kills|deaths|friendly_kills|time_in_movement_ration|shots_fired|flags_captured|\n",
      "+---------+--------------------+-----+------+--------------+-----------------------+-----------+--------------+\n",
      "|     4761|2024-07-13Z22:56:01Z|    0|     1|             1|                   0.13|        288|             0|\n",
      "+---------+--------------------+-----+------+--------------+-----------------------+-----------+--------------+\n",
      "only showing top 1 row\n",
      "\n",
      "+----+--------------------+---------+\n",
      "|  id|                date|sentiment|\n",
      "+----+--------------------+---------+\n",
      "|2862|2023-10-17Z04:47:53Z|     0.63|\n",
      "+----+--------------------+---------+\n",
      "only showing top 1 row\n",
      "\n",
      "+-------+------------------+----------+\n",
      "|user_id|transaction_number|      date|\n",
      "+-------+------------------+----------+\n",
      "|      0|                 0|2021-03-11|\n",
      "+-------+------------------+----------+\n",
      "only showing top 1 row\n",
      "\n",
      "+-------+------------------+--------------------+--------------------+--------+\n",
      "|user_id|transaction_number|                name|         description|discount|\n",
      "+-------+------------------+--------------------+--------------------+--------+\n",
      "|   2183|                 0|Exclusive Emote: ...|A humorous facepa...|    NULL|\n",
      "+-------+------------------+--------------------+--------------------+--------+\n",
      "only showing top 1 row\n",
      "\n"
     ]
    }
   ],
   "execution_count": 146
  },
  {
   "metadata": {
    "ExecuteTime": {
     "end_time": "2024-08-23T13:02:21.066129Z",
     "start_time": "2024-08-23T13:02:20.877072Z"
    }
   },
   "cell_type": "code",
   "source": [
    "from pyspark.sql.functions import col, concat\n",
    "\n",
    "df_players_plus = df_players.withColumn(\"hours_per_level\", col(\"total_hours_played\") / col(\"level\"))\n",
    "df_players_plus.select(\"level\", \"total_hours_played\", \"hours_per_level\").describe().show()\n",
    "level_to_check = 5\n",
    "df_players_plus.where(col(\"level\") > level_to_check).orderBy(\"total_hours_played\", ascending=True).show()"
   ],
   "id": "f5026196135a3c1f",
   "outputs": [
    {
     "name": "stdout",
     "output_type": "stream",
     "text": [
      "+-------+-----------------+------------------+------------------+\n",
      "|summary|            level|total_hours_played|   hours_per_level|\n",
      "+-------+-----------------+------------------+------------------+\n",
      "|  count|             5000|              5000|              5000|\n",
      "|   mean|          10.4732|           278.978|           26.7328|\n",
      "| stddev|5.754954879156946|223.97090460419577|13.726860147094794|\n",
      "|    min|                1|                 3|               3.0|\n",
      "|    max|               20|              1000|              50.0|\n",
      "+-------+-----------------+------------------+------------------+\n",
      "\n",
      "+----+-----+------------------+---------------+\n",
      "|  id|level|total_hours_played|hours_per_level|\n",
      "+----+-----+------------------+---------------+\n",
      "|4064|    6|                18|            3.0|\n",
      "|  61|    6|                18|            3.0|\n",
      "|3053|    6|                18|            3.0|\n",
      "|1653|    7|                21|            3.0|\n",
      "|2351|    7|                21|            3.0|\n",
      "|2356|    7|                21|            3.0|\n",
      "| 580|    7|                21|            3.0|\n",
      "|1621|    7|                21|            3.0|\n",
      "|3530|    7|                21|            3.0|\n",
      "|1861|    7|                21|            3.0|\n",
      "|2895|    6|                24|            4.0|\n",
      "|4904|    6|                24|            4.0|\n",
      "|2905|    6|                24|            4.0|\n",
      "|  44|    8|                24|            3.0|\n",
      "|4053|    6|                24|            4.0|\n",
      "|3901|    6|                24|            4.0|\n",
      "|2334|    6|                24|            4.0|\n",
      "|4347|    6|                24|            4.0|\n",
      "|4446|    6|                24|            4.0|\n",
      "|1716|    6|                24|            4.0|\n",
      "+----+-----+------------------+---------------+\n",
      "only showing top 20 rows\n",
      "\n"
     ]
    }
   ],
   "execution_count": 147
  },
  {
   "metadata": {
    "ExecuteTime": {
     "end_time": "2024-08-23T13:02:21.614946Z",
     "start_time": "2024-08-23T13:02:21.100052Z"
    }
   },
   "cell_type": "code",
   "source": [
    "from pyspark.sql.types import StringType, StructType, StructField, IntegerType\n",
    "\n",
    "\n",
    "AnomalieSchema = StructType([\n",
    "    StructField(\"type\", IntegerType(), False),\n",
    "    StructField(\"description\", StringType(), False)\n",
    "    ]\n",
    ")\n",
    "\n",
    "df_anomalies = spark.createDataFrame(data=[], schema=AnomalieSchema)\n",
    "df_anomalies.show()"
   ],
   "id": "b79f1bff0c2e8941",
   "outputs": [
    {
     "name": "stdout",
     "output_type": "stream",
     "text": [
      "+----+-----------+\n",
      "|type|description|\n",
      "+----+-----------+\n",
      "+----+-----------+\n",
      "\n"
     ]
    }
   ],
   "execution_count": 148
  },
  {
   "metadata": {
    "ExecuteTime": {
     "end_time": "2024-08-23T13:02:21.887786Z",
     "start_time": "2024-08-23T13:02:21.655272Z"
    }
   },
   "cell_type": "code",
   "source": [
    "df_players_plus_plus = df_players_plus.join(\n",
    "    df_player_matches.groupby(\"player_id\").count().select(\"player_id\", \"count\"), \n",
    "    df_players.id == df_player_matches.player_id, how=\"left\")\\\n",
    "    .select(\"id\",\"level\",\"total_hours_played\",\"hours_per_level\", col(\"count\").alias(\"game_count\"))\\\n",
    "    .withColumn(\"games_per_level\", col(\"game_count\") / col(\"level\"))\n",
    "df_players_plus_plus.orderBy(\"games_per_level\",ascending=True).show()"
   ],
   "id": "702a4a12a0d5365e",
   "outputs": [
    {
     "name": "stdout",
     "output_type": "stream",
     "text": [
      "+----+-----+------------------+---------------+----------+---------------+\n",
      "|  id|level|total_hours_played|hours_per_level|game_count|games_per_level|\n",
      "+----+-----+------------------+---------------+----------+---------------+\n",
      "|3662|   10|               390|           39.0|        10|            1.0|\n",
      "|1776|    8|               216|           27.0|         8|            1.0|\n",
      "|2473|   12|               564|           47.0|        12|            1.0|\n",
      "|1547|    1|                35|           35.0|         1|            1.0|\n",
      "| 932|    1|                21|           21.0|         1|            1.0|\n",
      "|4848|    1|                25|           25.0|         1|            1.0|\n",
      "|1979|    5|                25|            5.0|         5|            1.0|\n",
      "| 965|    3|               108|           36.0|         3|            1.0|\n",
      "|2241|    5|                50|           10.0|         5|            1.0|\n",
      "|1145|    7|               336|           48.0|         7|            1.0|\n",
      "|1353|    5|                65|           13.0|         5|            1.0|\n",
      "|1497|    2|                10|            5.0|         2|            1.0|\n",
      "|1527|    9|               270|           30.0|         9|            1.0|\n",
      "|3199|   13|               247|           19.0|        13|            1.0|\n",
      "|2611|    3|               123|           41.0|         3|            1.0|\n",
      "|1594|   16|               512|           32.0|        16|            1.0|\n",
      "|2929|   12|               276|           23.0|        12|            1.0|\n",
      "|3296|    7|               119|           17.0|         7|            1.0|\n",
      "|1041|    1|                49|           49.0|         1|            1.0|\n",
      "|3888|    1|                13|           13.0|         1|            1.0|\n",
      "+----+-----+------------------+---------------+----------+---------------+\n",
      "only showing top 20 rows\n",
      "\n"
     ]
    }
   ],
   "execution_count": 149
  },
  {
   "metadata": {
    "ExecuteTime": {
     "end_time": "2024-08-23T13:02:21.948457Z",
     "start_time": "2024-08-23T13:02:21.930158Z"
    }
   },
   "cell_type": "code",
   "source": "df_players_plus_plus_2 = df_players_plus_plus.union(spark.createDataFrame(data=[(9999, 20, 100, float(5), 2, float(2//20))], schema=df_players_plus_plus.schema))",
   "id": "ea6370bc3d75d085",
   "outputs": [],
   "execution_count": 150
  },
  {
   "metadata": {
    "ExecuteTime": {
     "end_time": "2024-08-23T13:02:22.864023Z",
     "start_time": "2024-08-23T13:02:21.994645Z"
    }
   },
   "cell_type": "code",
   "source": [
    "from pyspark.sql.functions import lit, concat\n",
    "\n",
    "games_per_level_anomaly_type = 1\n",
    "df_anomalies_1 = df_anomalies.union(\n",
    "    df_players_plus_plus_2\\\n",
    "        .where(col(\"games_per_level\") < 1)\\\n",
    "        .withColumn(\"anomaly_description\", concat(lit(\"Le joueur \") , col(\"id\") , lit(\" est niveau \") , col(\"level\") , lit(\" en moins de \") , col(\"level\") , lit(\" parties (\") , col(\"game_count\"), lit(\").\")))\\\n",
    "        .withColumn(\"anomaly_type\", lit(games_per_level_anomaly_type))\\\n",
    "        .select(\"anomaly_type\",\"anomaly_description\")\n",
    "        #.show(truncate=False)\n",
    ")\n",
    "df_anomalies_1.show(truncate=False)"
   ],
   "id": "44b6b7445729364a",
   "outputs": [
    {
     "name": "stdout",
     "output_type": "stream",
     "text": [
      "+----+--------------------------------------------------------+\n",
      "|type|description                                             |\n",
      "+----+--------------------------------------------------------+\n",
      "|1   |Le joueur 9999 est niveau 20 en moins de 20 parties (2).|\n",
      "+----+--------------------------------------------------------+\n",
      "\n"
     ]
    }
   ],
   "execution_count": 151
  },
  {
   "metadata": {
    "ExecuteTime": {
     "end_time": "2024-08-23T13:02:23.734323Z",
     "start_time": "2024-08-23T13:02:22.908422Z"
    }
   },
   "cell_type": "code",
   "source": [
    "df_anomalies_1.write\\\n",
    "    .format(\"jdbc\")\\\n",
    "    .option(\"driver\", driver)\\\n",
    "    .option(\"url\", connectionString + \"/\" + schemaName)\\\n",
    "    .option(\"dbtable\", anomalies_table_name)\\\n",
    "    .option(\"user\", user)\\\n",
    "    .option(\"password\", password)\\\n",
    "    .mode(\"overwrite\")\\\n",
    "    .save()"
   ],
   "id": "37640ea6731cec27",
   "outputs": [],
   "execution_count": 152
  }
 ],
 "metadata": {
  "kernelspec": {
   "display_name": "Python 3",
   "language": "python",
   "name": "python3"
  },
  "language_info": {
   "codemirror_mode": {
    "name": "ipython",
    "version": 2
   },
   "file_extension": ".py",
   "mimetype": "text/x-python",
   "name": "python",
   "nbconvert_exporter": "python",
   "pygments_lexer": "ipython2",
   "version": "2.7.6"
  }
 },
 "nbformat": 4,
 "nbformat_minor": 5
}
